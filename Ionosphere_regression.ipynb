{
 "cells": [
  {
   "cell_type": "code",
   "execution_count": 1,
   "id": "ba8a3ae4",
   "metadata": {
    "scrolled": true,
    "pycharm": {
     "name": "#%%\n"
    }
   },
   "outputs": [],
   "source": [
    "# Library\n",
    "import pandas as pd\n",
    "import numpy as np\n",
    "import matplotlib.pyplot as plt\n",
    "import torch\n",
    "%matplotlib inline\n",
    "\n",
    "from torch import nn, optim                           # torch 에서 제공하는 신경망 기술, 손실함수, 최적화를 할 수 있는 함수들을 불러온다.\n",
    "from torch.utils.data import DataLoader, Dataset      # 데이터를 모델에 사용할 수 있게 정리해주는 라이브러리.\n",
    "import torch.nn.functional as F                       # torch 내의 세부적인 기능을 불러옴.\n",
    "\n",
    "from sklearn.model_selection import train_test_split\n",
    "from sklearn.preprocessing import MinMaxScaler\n",
    "\n",
    "# Loss\n",
    "from sklearn.metrics import mean_squared_error        # regression 문제의 모델 성능 측정을 위해서 MSE를 불러온다."
   ]
  },
  {
   "cell_type": "code",
   "execution_count": 11,
   "id": "3b711680",
   "metadata": {
    "pycharm": {
     "name": "#%%\n"
    }
   },
   "outputs": [
    {
     "name": "stdout",
     "output_type": "stream",
     "text": [
      "['Kp_inter', 'Ap_inter', 'F107_inter', 'SunSpot_inter', 'dst', 'T1', 'T2', 'T3', 'T4', 'T5', 'T6', 'T7', 'T8', 'T9', 'T10', 'T11', 'T12', 'T13', 'T14', 'T15', 'T16', 'C_D', 'S_D', 'C_H', 'S_H', 'tec_ex(T1)']\n"
     ]
    }
   ],
   "source": [
    "# Read Data\n",
    "train = pd.read_csv(\"C:/Users/rihot/Desktop/Deep_learning/capston_assignment/Preprocessed_data/datafile_nan.csv\")\n",
    "\n",
    "# Index column drop\n",
    "# Index 열은 Quality에 영향을 주지 않음\n",
    "train = train.drop(['xq'], axis=1)\n",
    "\n",
    "# 데이터 타입에 따라 분류\n",
    "numerical_columns = train.select_dtypes(exclude='object').columns.tolist()\n",
    "\n",
    "# StandardScaler 를 이용해서 데이터 표준화를 진행한다\n",
    "# from sklearn.preprocessing import StandardScaler\n",
    "# train[numerical_columns] = StandardScaler().fit_transform(train[numerical_columns])\n",
    "\n",
    "\n",
    "# 확인을 위한 호출\n",
    "print(numerical_columns)\n",
    "# train.head(5)\n",
    "# test.head(5)"
   ]
  },
  {
   "cell_type": "code",
   "execution_count": 5,
   "id": "9ec3e81b",
   "metadata": {
    "scrolled": true,
    "pycharm": {
     "name": "#%%\n"
    }
   },
   "outputs": [
    {
     "ename": "NameError",
     "evalue": "name 'train' is not defined",
     "output_type": "error",
     "traceback": [
      "\u001B[1;31m---------------------------------------------------------------------------\u001B[0m",
      "\u001B[1;31mNameError\u001B[0m                                 Traceback (most recent call last)",
      "Input \u001B[1;32mIn [5]\u001B[0m, in \u001B[0;36m<cell line: 1>\u001B[1;34m()\u001B[0m\n\u001B[1;32m----> 1\u001B[0m Y \u001B[38;5;241m=\u001B[39m \u001B[43mtrain\u001B[49m[\u001B[38;5;124m'\u001B[39m\u001B[38;5;124mtec_ex(T1)\u001B[39m\u001B[38;5;124m'\u001B[39m]\u001B[38;5;241m.\u001B[39mvalues\n\u001B[0;32m      2\u001B[0m X \u001B[38;5;241m=\u001B[39m []\n\u001B[0;32m      4\u001B[0m \u001B[38;5;28;01mfor\u001B[39;00m i, rows \u001B[38;5;129;01min\u001B[39;00m train\u001B[38;5;241m.\u001B[39miterrows():\n\u001B[0;32m      5\u001B[0m     \u001B[38;5;66;03m# 데이터 프레임을 가로 한줄씩 출력 row\u001B[39;00m\n",
      "\u001B[1;31mNameError\u001B[0m: name 'train' is not defined"
     ]
    }
   ],
   "source": [
    "Y = train['tec_ex(T1)'].values\n",
    "X = []\n",
    "\n",
    "for i, rows in train.iterrows():\n",
    "    # 데이터 프레임을 가로 한줄씩 출력 row\n",
    "    X.append([ rows['Kp_inter'], rows['Ap_inter'], rows['F107_inter'], rows['SunSpot_inter'], rows['dst']\n",
    "                , rows['T1'], rows['T2'], rows['T3'], rows['T4'], rows['T5'], rows['T6'], rows['T7'], rows['T8'], rows['T9']\n",
    "                , rows['T10'], rows['T11'], rows['T12'], rows['T13'], rows['T14'], rows['T15'], rows['T16']\n",
    "                , rows['C_D'], rows['S_D'], rows['C_H'], rows['S_H']])\n",
    "\n",
    "# print(X)"
   ]
  },
  {
   "cell_type": "code",
   "execution_count": 4,
   "id": "84a5953b",
   "metadata": {
    "pycharm": {
     "name": "#%%\n"
    }
   },
   "outputs": [],
   "source": [
    "Y = Y.reshape((-1,1)) # reshape(-1,1) 열 값은 지정했으니 알아서 행 지정해서 배열로 만들기\n",
    "\n",
    "# 데이터 스케일링\n",
    "# sklearn에서 제공하는 MinMaxScaler \n",
    "# (X-min(X))/(max(X)-min(X))을 계산\n",
    "scaler = MinMaxScaler() \n",
    "scaler.fit(X) \n",
    "X = scaler.transform(X)\n",
    "\n",
    "scaler.fit(Y)\n",
    "Y = scaler.transform(Y)"
   ]
  },
  {
   "cell_type": "code",
   "execution_count": 5,
   "id": "f4c7e40f",
   "metadata": {
    "pycharm": {
     "name": "#%%\n"
    }
   },
   "outputs": [],
   "source": [
    "# torch의 Dataset 을 상속.\n",
    "class TensorData(Dataset):\n",
    "\n",
    "    def __init__(self, x_data, y_data):\n",
    "        self.x_data = torch.FloatTensor(x_data)\n",
    "        self.y_data = torch.FloatTensor(y_data)\n",
    "        self.len = self.y_data.shape[0]\n",
    "\n",
    "    def __getitem__(self, index):\n",
    "\n",
    "        return self.x_data[index], self.y_data[index] \n",
    "\n",
    "    def __len__(self):\n",
    "        return self.len"
   ]
  },
  {
   "cell_type": "code",
   "execution_count": 6,
   "id": "f8ad165a",
   "metadata": {
    "pycharm": {
     "name": "#%%\n"
    }
   },
   "outputs": [],
   "source": [
    "#하이퍼 파라미터 튜닝\n",
    "\n",
    "CFG = {\n",
    "    'EPOCHS':150, #에포크\n",
    "    'LEARNING_RATE':3e-4, #학습률\n",
    "    'BATCH_SIZE':16, #배치사이즈\n",
    "    'SEED':41, #시드\n",
    "}"
   ]
  },
  {
   "cell_type": "code",
   "execution_count": 7,
   "id": "2f9f3dd8",
   "metadata": {
    "pycharm": {
     "name": "#%%\n"
    }
   },
   "outputs": [],
   "source": [
    "# 전체 데이터를 학습 데이터와 평가 데이터로 나눈다.\n",
    "X_train, X_val, Y_train, Y_val = train_test_split(X, Y, test_size=0.2)\n",
    "\n",
    "# 학습 데이터, 시험 데이터 배치 형태로 구축하기\n",
    "trainsets = TensorData(X_train, Y_train)\n",
    "trainloader = torch.utils.data.DataLoader(trainsets, batch_size=CFG['BATCH_SIZE'], shuffle=True)\n",
    "\n",
    "valsets = TensorData(X_val, Y_val)\n",
    "valloader = torch.utils.data.DataLoader(valsets, batch_size=CFG['BATCH_SIZE'], shuffle=False)"
   ]
  },
  {
   "cell_type": "code",
   "execution_count": 46,
   "id": "6910834f",
   "metadata": {
    "pycharm": {
     "name": "#%%\n"
    }
   },
   "outputs": [],
   "source": [
    "class Regressor(nn.Module):\n",
    "    def __init__(self):\n",
    "        super().__init__()\n",
    "        self.layer1 = nn.Sequential(\n",
    "            nn.Linear(25, 64, bias=False),\n",
    "            nn.BatchNorm1d(64, eps=1e-05, momentum=0.1),\n",
    "            nn.ReLU()\n",
    "        )\n",
    "        \n",
    "        self.layer2 = nn.Sequential(\n",
    "            nn.Linear(64, 128, bias=False),\n",
    "            nn.BatchNorm1d(128, eps=1e-05, momentum=0.1),\n",
    "            nn.ReLU()\n",
    "        )\n",
    "        \n",
    "        self.layer3 = nn.Sequential(\n",
    "            nn.Linear(128, 256, bias=False),\n",
    "            nn.BatchNorm1d(256, eps=1e-05, momentum=0.1),\n",
    "            nn.ReLU()\n",
    "        )\n",
    "        \n",
    "        self.layer4 = nn.Linear(256, 1, bias=False)\n",
    "        \n",
    "    def forward(self, x): # 모델 연산의 순서를 정의\n",
    "        x = self.layer1(x)\n",
    "        x = self.layer2(x)\n",
    "        x = self.layer3(x)\n",
    "        x = self.layer4(x)\n",
    "      \n",
    "        return x"
   ]
  },
  {
   "cell_type": "code",
   "execution_count": 47,
   "id": "a57eae1c",
   "metadata": {
    "pycharm": {
     "name": "#%%\n"
    }
   },
   "outputs": [],
   "source": [
    "model = Regressor()\n",
    "criterion = nn.MSELoss()\n",
    "\n",
    "optimizer = optim.Adam(model.parameters(), lr=CFG['LEARNING_RATE'], weight_decay=1e-7)"
   ]
  },
  {
   "cell_type": "code",
   "execution_count": 48,
   "id": "7413de7b",
   "metadata": {
    "scrolled": true,
    "pycharm": {
     "name": "#%%\n"
    }
   },
   "outputs": [],
   "source": [
    "loss_ = [] # loss 저장할 리스트\n",
    "t_loss_ = [] # test loss 저장할 리스트\n",
    "\n",
    "def train(model, optimizer, trainloader):\n",
    "    n = len(trainloader)\n",
    "    \n",
    "    # Loss Function\n",
    "    criterion = nn.MSELoss()\n",
    "    best_acc = 0\n",
    "    \n",
    "    for epoch in range(1, CFG[\"EPOCHS\"]+1):\n",
    "        model.train()\n",
    "        running_loss = 0.0\n",
    "        \n",
    "        for i, data in enumerate(trainloader, 0):\n",
    "            inputs, values = data\n",
    "            \n",
    "            optimizer.zero_grad() # 최적화 초기화\n",
    "            \n",
    "            outputs = model(inputs) # 예측값 산출\n",
    "            loss = criterion(outputs, values) # Error 계산\n",
    "            \n",
    "            loss.backward() # 역전파 진행\n",
    "            optimizer.step() # 역전파 진행 후 가중치 업데이트\n",
    "            \n",
    "            running_loss += loss.item() # Epoch 마다 평균 loss를 계산하기 위한 배치 loss\n",
    "                                        # item() 텐서로 값 받아오기\n",
    "        \n",
    "        loss_.append(running_loss/n) # MSE 계산\n",
    "        print('[%d] Train loss: %.10f' %(epoch, running_loss / len(trainloader)))\n",
    "        \n",
    "        #validation set 평가\n",
    "        model.eval() #evaluation 과정에서 사용하지 않아야 하는 layer들을 알아서 off 시키도록 하는 함수\n",
    "        test_loss = 0.0\n",
    "        \n",
    "        predictions = torch.tensor([], dtype=torch.float) # 예측값을 저장하는 텐서.\n",
    "        actual = torch.tensor([], dtype=torch.float) # 실제값을 저장하는 텐서.\n",
    "        \n",
    "        with torch.no_grad(): #파라미터 업데이트 안하기 때문에 no_grad 사용\n",
    "            for i, data in enumerate(valloader, 0):\n",
    "                inputs, values = data\n",
    "\n",
    "                outputs = model(inputs)\n",
    "                test_loss += criterion(outputs, values)\n",
    "                \n",
    "                predictions = torch.cat((predictions, outputs), 0) # cat함수를 통해 예측값을 누적.\n",
    "                actual = torch.cat((actual, values), 0) # cat함수를 통해 실제값을 누적.\n",
    "                \n",
    "                t_loss_.append(test_loss/n)\n",
    "        \n",
    "        predictions = predictions.numpy() # 넘파이 배열로 변경.\n",
    "        actual = actual.numpy() # 넘파이 배열로 변경.\n",
    "        rmse = np.sqrt(mean_squared_error(predictions, actual)) # sklearn을 이용해 RMSE를 계산.\n",
    "        print(f'test rmse:{rmse}')\n",
    "        \n",
    "        "
   ]
  },
  {
   "cell_type": "code",
   "execution_count": 49,
   "id": "d1cf6390",
   "metadata": {
    "pycharm": {
     "name": "#%%\n"
    }
   },
   "outputs": [
    {
     "name": "stdout",
     "output_type": "stream",
     "text": [
      "[1] Train loss: 0.0251415800\n",
      "test rmse:0.10494793206453323\n",
      "[2] Train loss: 0.0128337684\n",
      "test rmse:0.08332432806491852\n",
      "[3] Train loss: 0.0096116760\n",
      "test rmse:0.08030737191438675\n",
      "[4] Train loss: 0.0083457092\n",
      "test rmse:0.06626685708761215\n",
      "[5] Train loss: 0.0079521053\n",
      "test rmse:0.066041499376297\n",
      "[6] Train loss: 0.0066763275\n",
      "test rmse:0.05984695628285408\n",
      "[7] Train loss: 0.0062243422\n",
      "test rmse:0.058048978447914124\n",
      "[8] Train loss: 0.0059946457\n",
      "test rmse:0.05737899988889694\n",
      "[9] Train loss: 0.0060218421\n",
      "test rmse:0.06196878105401993\n",
      "[10] Train loss: 0.0056223716\n",
      "test rmse:0.051994673907756805\n",
      "[11] Train loss: 0.0055441129\n",
      "test rmse:0.05325981602072716\n",
      "[12] Train loss: 0.0051042365\n",
      "test rmse:0.0606328584253788\n",
      "[13] Train loss: 0.0051810155\n",
      "test rmse:0.062218356877565384\n",
      "[14] Train loss: 0.0050703673\n",
      "test rmse:0.05577697977423668\n",
      "[15] Train loss: 0.0046195594\n",
      "test rmse:0.053287751972675323\n",
      "[16] Train loss: 0.0045658608\n",
      "test rmse:0.05481483414769173\n",
      "[17] Train loss: 0.0043044402\n",
      "test rmse:0.0507207028567791\n",
      "[18] Train loss: 0.0044725816\n",
      "test rmse:0.05555487424135208\n",
      "[19] Train loss: 0.0042087079\n",
      "test rmse:0.0665511041879654\n",
      "[20] Train loss: 0.0042903782\n",
      "test rmse:0.051261454820632935\n",
      "[21] Train loss: 0.0040538403\n",
      "test rmse:0.06303316354751587\n",
      "[22] Train loss: 0.0039089951\n",
      "test rmse:0.045524321496486664\n",
      "[23] Train loss: 0.0039906760\n",
      "test rmse:0.050135236233472824\n",
      "[24] Train loss: 0.0041512713\n",
      "test rmse:0.04904192313551903\n",
      "[25] Train loss: 0.0035505179\n",
      "test rmse:0.052750274538993835\n",
      "[26] Train loss: 0.0035761436\n",
      "test rmse:0.04662412777543068\n",
      "[27] Train loss: 0.0037145197\n",
      "test rmse:0.04432820901274681\n",
      "[28] Train loss: 0.0038941695\n",
      "test rmse:0.051463279873132706\n",
      "[29] Train loss: 0.0035793397\n",
      "test rmse:0.043881773948669434\n",
      "[30] Train loss: 0.0036531889\n",
      "test rmse:0.04906978830695152\n",
      "[31] Train loss: 0.0036281920\n",
      "test rmse:0.049038536846637726\n",
      "[32] Train loss: 0.0036000471\n",
      "test rmse:0.042798399925231934\n",
      "[33] Train loss: 0.0033517333\n",
      "test rmse:0.04111321642994881\n",
      "[34] Train loss: 0.0033475566\n",
      "test rmse:0.04263509064912796\n",
      "[35] Train loss: 0.0035091774\n",
      "test rmse:0.04284706339240074\n",
      "[36] Train loss: 0.0032137376\n",
      "test rmse:0.049114808440208435\n",
      "[37] Train loss: 0.0028060016\n",
      "test rmse:0.04465556889772415\n",
      "[38] Train loss: 0.0029328340\n",
      "test rmse:0.04440107196569443\n",
      "[39] Train loss: 0.0030314996\n",
      "test rmse:0.04762733727693558\n",
      "[40] Train loss: 0.0028747271\n",
      "test rmse:0.052364397794008255\n",
      "[41] Train loss: 0.0029593820\n",
      "test rmse:0.04001530632376671\n",
      "[42] Train loss: 0.0032150255\n",
      "test rmse:0.041655223816633224\n",
      "[43] Train loss: 0.0026178890\n",
      "test rmse:0.04828313738107681\n",
      "[44] Train loss: 0.0026038630\n",
      "test rmse:0.0407964289188385\n",
      "[45] Train loss: 0.0027846375\n",
      "test rmse:0.042157452553510666\n",
      "[46] Train loss: 0.0023429105\n",
      "test rmse:0.044376473873853683\n",
      "[47] Train loss: 0.0025194388\n",
      "test rmse:0.050338394939899445\n",
      "[48] Train loss: 0.0029158040\n",
      "test rmse:0.04316065460443497\n",
      "[49] Train loss: 0.0028770262\n",
      "test rmse:0.05030560493469238\n",
      "[50] Train loss: 0.0029781329\n",
      "test rmse:0.04112931713461876\n",
      "[51] Train loss: 0.0026900417\n",
      "test rmse:0.045137614011764526\n",
      "[52] Train loss: 0.0026327160\n",
      "test rmse:0.04067187011241913\n",
      "[53] Train loss: 0.0025914953\n",
      "test rmse:0.03690062090754509\n",
      "[54] Train loss: 0.0027682017\n",
      "test rmse:0.041555192321538925\n",
      "[55] Train loss: 0.0023744573\n",
      "test rmse:0.041642431169748306\n",
      "[56] Train loss: 0.0024351650\n",
      "test rmse:0.04236501082777977\n",
      "[57] Train loss: 0.0026091075\n",
      "test rmse:0.04342155531048775\n",
      "[58] Train loss: 0.0022751080\n",
      "test rmse:0.038563769310712814\n",
      "[59] Train loss: 0.0023661811\n",
      "test rmse:0.03570479527115822\n",
      "[60] Train loss: 0.0022653304\n",
      "test rmse:0.03760765120387077\n",
      "[61] Train loss: 0.0024966043\n",
      "test rmse:0.0392199270427227\n",
      "[62] Train loss: 0.0024764981\n",
      "test rmse:0.03900104761123657\n",
      "[63] Train loss: 0.0023884572\n",
      "test rmse:0.0462072379887104\n",
      "[64] Train loss: 0.0021843252\n",
      "test rmse:0.0332789309322834\n",
      "[65] Train loss: 0.0021529392\n",
      "test rmse:0.05135519430041313\n",
      "[66] Train loss: 0.0024094710\n",
      "test rmse:0.03465450927615166\n",
      "[67] Train loss: 0.0020677947\n",
      "test rmse:0.040562596172094345\n",
      "[68] Train loss: 0.0020619813\n",
      "test rmse:0.03119703009724617\n",
      "[69] Train loss: 0.0022341895\n",
      "test rmse:0.04398366063833237\n",
      "[70] Train loss: 0.0024211749\n",
      "test rmse:0.038888245820999146\n",
      "[71] Train loss: 0.0023435140\n",
      "test rmse:0.0354231521487236\n",
      "[72] Train loss: 0.0020069945\n",
      "test rmse:0.052724920213222504\n",
      "[73] Train loss: 0.0017860138\n",
      "test rmse:0.045901548117399216\n",
      "[74] Train loss: 0.0019253387\n",
      "test rmse:0.03826451674103737\n",
      "[75] Train loss: 0.0017706377\n",
      "test rmse:0.03411216288805008\n",
      "[76] Train loss: 0.0019382244\n",
      "test rmse:0.046749576926231384\n",
      "[77] Train loss: 0.0021958841\n",
      "test rmse:0.038039058446884155\n",
      "[78] Train loss: 0.0019598589\n",
      "test rmse:0.03365417942404747\n",
      "[79] Train loss: 0.0022053073\n",
      "test rmse:0.03700448200106621\n",
      "[80] Train loss: 0.0024885932\n",
      "test rmse:0.040932394564151764\n",
      "[81] Train loss: 0.0019263431\n",
      "test rmse:0.03946411609649658\n",
      "[82] Train loss: 0.0017593454\n",
      "test rmse:0.043028708547353745\n",
      "[83] Train loss: 0.0020673040\n",
      "test rmse:0.029877545312047005\n",
      "[84] Train loss: 0.0018080605\n",
      "test rmse:0.046101219952106476\n",
      "[85] Train loss: 0.0016273915\n",
      "test rmse:0.03390135616064072\n",
      "[86] Train loss: 0.0019131992\n",
      "test rmse:0.03721471130847931\n",
      "[87] Train loss: 0.0015959788\n",
      "test rmse:0.034621961414813995\n",
      "[88] Train loss: 0.0017678035\n",
      "test rmse:0.03608987480401993\n",
      "[89] Train loss: 0.0016878613\n",
      "test rmse:0.03458813950419426\n",
      "[90] Train loss: 0.0015664296\n",
      "test rmse:0.03115692175924778\n",
      "[91] Train loss: 0.0019986477\n",
      "test rmse:0.03243352472782135\n",
      "[92] Train loss: 0.0016336093\n",
      "test rmse:0.03401733562350273\n",
      "[93] Train loss: 0.0021319248\n",
      "test rmse:0.038029007613658905\n",
      "[94] Train loss: 0.0015454371\n",
      "test rmse:0.038222674280405045\n",
      "[95] Train loss: 0.0022894947\n",
      "test rmse:0.040178798139095306\n",
      "[96] Train loss: 0.0017169366\n",
      "test rmse:0.027834497392177582\n",
      "[97] Train loss: 0.0013467475\n",
      "test rmse:0.029921341687440872\n",
      "[98] Train loss: 0.0016313503\n",
      "test rmse:0.03203228488564491\n",
      "[99] Train loss: 0.0016843545\n",
      "test rmse:0.04043794423341751\n",
      "[100] Train loss: 0.0017170974\n",
      "test rmse:0.03882739692926407\n",
      "[101] Train loss: 0.0014856289\n",
      "test rmse:0.030521614477038383\n",
      "[102] Train loss: 0.0018388429\n",
      "test rmse:0.030919000506401062\n",
      "[103] Train loss: 0.0018980480\n",
      "test rmse:0.03645557537674904\n",
      "[104] Train loss: 0.0016450407\n",
      "test rmse:0.030056143179535866\n",
      "[105] Train loss: 0.0014467783\n",
      "test rmse:0.02897866629064083\n",
      "[106] Train loss: 0.0017975223\n",
      "test rmse:0.03478559851646423\n",
      "[107] Train loss: 0.0016321485\n",
      "test rmse:0.025610893964767456\n",
      "[108] Train loss: 0.0013806148\n",
      "test rmse:0.03507169336080551\n",
      "[109] Train loss: 0.0016457229\n",
      "test rmse:0.034836068749427795\n",
      "[110] Train loss: 0.0016736395\n",
      "test rmse:0.02581206150352955\n",
      "[111] Train loss: 0.0016402395\n",
      "test rmse:0.03537643700838089\n",
      "[112] Train loss: 0.0015609080\n",
      "test rmse:0.03432630002498627\n",
      "[113] Train loss: 0.0015049405\n",
      "test rmse:0.02802993357181549\n",
      "[114] Train loss: 0.0016342507\n",
      "test rmse:0.02831672690808773\n",
      "[115] Train loss: 0.0011944668\n",
      "test rmse:0.038350339978933334\n",
      "[116] Train loss: 0.0014127353\n",
      "test rmse:0.025653641670942307\n",
      "[117] Train loss: 0.0012731098\n",
      "test rmse:0.025995487347245216\n",
      "[118] Train loss: 0.0013144855\n",
      "test rmse:0.02905554138123989\n",
      "[119] Train loss: 0.0013451926\n",
      "test rmse:0.03463766351342201\n",
      "[120] Train loss: 0.0012425930\n",
      "test rmse:0.030790721997618675\n",
      "[121] Train loss: 0.0016623918\n",
      "test rmse:0.026288742199540138\n",
      "[122] Train loss: 0.0013065485\n",
      "test rmse:0.0245780311524868\n",
      "[123] Train loss: 0.0012608783\n",
      "test rmse:0.024508250877261162\n",
      "[124] Train loss: 0.0012985207\n",
      "test rmse:0.02748321183025837\n",
      "[125] Train loss: 0.0011692341\n",
      "test rmse:0.035875000059604645\n",
      "[126] Train loss: 0.0016254305\n",
      "test rmse:0.04515734314918518\n",
      "[127] Train loss: 0.0014341970\n",
      "test rmse:0.03143041953444481\n",
      "[128] Train loss: 0.0011804494\n",
      "test rmse:0.02596474252641201\n",
      "[129] Train loss: 0.0010928388\n",
      "test rmse:0.026568328961730003\n",
      "[130] Train loss: 0.0016164076\n",
      "test rmse:0.030551666393876076\n",
      "[131] Train loss: 0.0016042322\n",
      "test rmse:0.02715183235704899\n",
      "[132] Train loss: 0.0013178491\n",
      "test rmse:0.02881614677608013\n",
      "[133] Train loss: 0.0011829347\n",
      "test rmse:0.02975897304713726\n",
      "[134] Train loss: 0.0016618236\n",
      "test rmse:0.034759100526571274\n",
      "[135] Train loss: 0.0013166710\n",
      "test rmse:0.028309818357229233\n",
      "[136] Train loss: 0.0013355587\n",
      "test rmse:0.02966156415641308\n"
     ]
    },
    {
     "name": "stdout",
     "output_type": "stream",
     "text": [
      "[137] Train loss: 0.0016921572\n",
      "test rmse:0.023647816851735115\n",
      "[138] Train loss: 0.0012300747\n",
      "test rmse:0.027863213792443275\n",
      "[139] Train loss: 0.0013337734\n",
      "test rmse:0.024115461856126785\n",
      "[140] Train loss: 0.0014254584\n",
      "test rmse:0.027529748156666756\n",
      "[141] Train loss: 0.0012427645\n",
      "test rmse:0.0316234715282917\n",
      "[142] Train loss: 0.0010756306\n",
      "test rmse:0.04351009428501129\n",
      "[143] Train loss: 0.0012614746\n",
      "test rmse:0.03265957161784172\n",
      "[144] Train loss: 0.0014148929\n",
      "test rmse:0.024363605305552483\n",
      "[145] Train loss: 0.0012866402\n",
      "test rmse:0.024721411988139153\n",
      "[146] Train loss: 0.0015373118\n",
      "test rmse:0.028522111475467682\n",
      "[147] Train loss: 0.0011067335\n",
      "test rmse:0.031043745577335358\n",
      "[148] Train loss: 0.0014308463\n",
      "test rmse:0.03399321809411049\n",
      "[149] Train loss: 0.0015031109\n",
      "test rmse:0.025907224044203758\n",
      "[150] Train loss: 0.0010314290\n",
      "test rmse:0.029584970325231552\n"
     ]
    }
   ],
   "source": [
    "train(model, optimizer, trainloader)"
   ]
  },
  {
   "cell_type": "code",
   "execution_count": 53,
   "id": "2be23ddc",
   "metadata": {
    "pycharm": {
     "name": "#%%\n"
    }
   },
   "outputs": [
    {
     "data": {
      "image/png": "[encoded data removed]",
      "text/plain": [
       "<Figure size 432x288 with 1 Axes>"
      ]
     },
     "metadata": {
      "needs_background": "light"
     },
     "output_type": "display_data"
    }
   ],
   "source": [
    "plt.clf()\n",
    "# plt.plot(loss_,'ro',label='training loss')\n",
    "plt.plot(t_loss_,'g',label='validation loss')\n",
    "plt.title('Training and validation accuracy')\n",
    "plt.xlabel('epochs')\n",
    "plt.ylabel('loss')\n",
    "plt.legend()\n",
    "plt.show()"
   ]
  },
  {
   "cell_type": "code",
   "execution_count": null,
   "id": "a10d44b3",
   "metadata": {
    "pycharm": {
     "name": "#%%\n"
    }
   },
   "outputs": [],
   "source": [
    "sample_submission['tec_ex(T1)'] = y_pred_label.astype(int)\n",
    "sample_submission.to_csv(\"C:/Users/rihot/Desktop/Deep_learning/capston_assignment/processed data/sample_submission.csv\", index=False)"
   ]
  }
 ],
 "metadata": {
  "kernelspec": {
   "display_name": "Python 3 (ipykernel)",
   "language": "python",
   "name": "python3"
  },
  "language_info": {
   "codemirror_mode": {
    "name": "ipython",
    "version": 3
   },
   "file_extension": ".py",
   "mimetype": "text/x-python",
   "name": "python",
   "nbconvert_exporter": "python",
   "pygments_lexer": "ipython3",
   "version": "3.9.12"
  }
 },
 "nbformat": 4,
 "nbformat_minor": 5
}